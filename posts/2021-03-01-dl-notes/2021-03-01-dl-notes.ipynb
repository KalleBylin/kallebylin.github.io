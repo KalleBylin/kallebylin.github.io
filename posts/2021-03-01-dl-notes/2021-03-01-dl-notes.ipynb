{
 "cells": [
  {
   "attachments": {},
   "cell_type": "markdown",
   "metadata": {},
   "source": [
    "---\n",
    "title: \"Deep Learning - Notes\"\n",
    "author: Kalle Bylin\n",
    "date: 2021-03-01\n",
    "categories: [deep-learning]\n",
    "toc: true\n",
    "format:\n",
    "  html:\n",
    "    code-fold: true\n",
    "jupyter: python3\n",
    "---"
   ]
  },
  {
   "attachments": {},
   "cell_type": "markdown",
   "metadata": {},
   "source": [
    "\n",
    "> A short summary of DL fundamentals."
   ]
  },
  {
   "attachments": {},
   "cell_type": "markdown",
   "metadata": {},
   "source": [
    "# About\n",
    "\n",
    "This notebook contains my notes for introductory DL concepts."
   ]
  },
  {
   "attachments": {},
   "cell_type": "markdown",
   "metadata": {},
   "source": [
    "## What is a perceptron?\n",
    "\n",
    "- Perceptrons were originally brain models created to understand how the brain works. A perceptron as we know it encodes several principles about how the brain works and then evolved into an algorithm for supervised binary classification.\n",
    "\n",
    "In the 1960's, Frank Rosenblatt published the book `Principles of Neurodynamics: Perceptrons and the Theory of Brain Mechanisms`. It is curious that this fundamental block for AI was, in the author's mind, a tool for understanding the human brain and not for pattern recognition (even though he encouraged this use as well):\n",
    "\n",
    "> For this writer, the perceptron program is _not_ primarily concerned with the invention of devices for \"artificial intelligence\", but rather with investigating the physical structures and neurodynamic principles which underlie \"natural intelligence\". *A perceptron is first and foremost a brain model, not an invention for pattern recognition* [emphasis added]\" (p. viii). \n",
    "\n",
    "In other words, the perceptron is actually a simplification and abstraction which has allowed us to discover principles for how the brain works. These same principles were then also used to create pattern recognition machines.\n",
    "\n",
    "Rosenblatt explicitly recognizes that his model is a direct descendant of the model created by McCulloch and Pitts, and influenced by the theories of Hebb and Hayek. \n",
    "\n",
    "Main components of a perceptron in Rosenblatt's book:\n",
    "- **Environment**: The environment generates the information that is initially passed on to the perceptron.\n",
    "\n",
    "\n",
    "- **Signal generating units**: Each unit receives a signal and generates an output signal.\n",
    "\n",
    "\n",
    "- **Signal propagation functions**: These are rules that define how signals are generated and transmitted.\n",
    "\n",
    "\n",
    "- **Memory functions**: These are rules that define how properties of the perceptron can be changed in response to certain activity."
   ]
  },
  {
   "attachments": {},
   "cell_type": "markdown",
   "metadata": {},
   "source": [
    "The definition of a single neuron evolves from the ideas above.\n",
    "\n",
    "A neuron takes values from its environment (e.g. x1, x2, x3) and each of these gets multiplied by a stored parameter (e.g. w1, w2, w3). The sum of each of these operations is then passed through an activation function.\n",
    "\n",
    "In other words, it's as if we are trying to pass a signal through the neuron and all of these components work together to establish how the signal is transmitted. \n"
   ]
  },
  {
   "attachments": {},
   "cell_type": "markdown",
   "metadata": {},
   "source": [
    "We can imagine three old batteries used to turn on a machine. Turning it on with too little energy could cause it to break, so we check the current before passing it on to the machine. "
   ]
  },
  {
   "attachments": {},
   "cell_type": "markdown",
   "metadata": {},
   "source": [
    "![Perceptron](img/perceptron_batteries.png)"
   ]
  },
  {
   "attachments": {},
   "cell_type": "markdown",
   "metadata": {},
   "source": [
    "In the example below, we are randomly initializing the parameters. The activation function is a step-function with a threshold of 4. This means that the signal is only passed on as a unitary value if it is larger than or equal to the threshold."
   ]
  },
  {
   "cell_type": "code",
   "execution_count": 1,
   "metadata": {},
   "outputs": [
    {
     "name": "stdout",
     "output_type": "stream",
     "text": [
      "W1 is equal to: 0.6321002815675523\n",
      "W2 is equal to: 1.6995522179113192\n",
      "W3 is equal to: 1.2072466687862997\n",
      "\n",
      "Output: 1\n",
      "The machine is on!\n"
     ]
    }
   ],
   "source": [
    "import numpy as np\n",
    "\n",
    "w1 = np.random.random()*2 # generates random floats between 0 and 2\n",
    "w2 = np.random.random()*2\n",
    "w3 = np.random.random()*2 \n",
    "\n",
    "print(f'W1 is equal to: {w1}')\n",
    "print(f'W2 is equal to: {w2}')\n",
    "print(f'W3 is equal to: {w3}\\n')\n",
    "\n",
    "x1 = 2\n",
    "x2 = 1\n",
    "x3 = 3\n",
    "b = 0\n",
    "\n",
    "activation_function = lambda x: 1 if x >=4 else 0\n",
    "\n",
    "output = activation_function(x1*w1 + x2*w2 + x3*w3)\n",
    "\n",
    "print('Output:', output)\n",
    "\n",
    "if output == 1:\n",
    "    print('The machine is on!')\n",
    "else:\n",
    "    print('Not enough energy to turn on the machine :(')"
   ]
  },
  {
   "attachments": {},
   "cell_type": "markdown",
   "metadata": {},
   "source": [
    "## What is an activation function?\n",
    "\n",
    "Going back to Rosenblatt's book, activation functions are essentially signal propagation functions. \n",
    "\n",
    "When a neuron receives a signal, the activation function decides if the signal is passed on and how strong the output signal becomes. \n",
    "\n",
    "We already learned about the step function. This activation is often not ideal for multiple reasons.\n",
    "\n",
    "First of all, the result is binary. But sometimes we are more interested in also knowing the degree of certainty, so I probability might be better.\n",
    "\n",
    "We might also want to have a wider range of values. When predicting age, for example, binary values of 0 or 1 will be of little value. \n",
    "\n",
    "A lot of different activation functions have been developed by researchers. Three common activation functions are:\n",
    "\n",
    "**Sigmoid function**\n",
    "Has a great property of having outputs between 0 and 1 and therefore can be interpreted as probabilities. The function is also smooth and easy to differentiate which makes learning easier.\n",
    "\n",
    "It can be problematic when the input signal has very large positive or negative values. At those points the derivative is very close to 0 and learning becomes very slow.\n",
    "\n",
    "**Hyperbolic function**\n",
    "This is another smooth function with a range of values between -1 and 1. This is interesting because sometimes a signal might have a reverse effect on the output and the hyperbolic function allows us to include this type of relationship in the network. \n",
    "\n",
    "**Rectified linear unit (ReLU)**\n",
    "This function is very simple aned fast to compute. This allows us to work with larger and more complex models that, given enough data, can produce better results overall."
   ]
  },
  {
   "attachments": {},
   "cell_type": "markdown",
   "metadata": {},
   "source": [
    "## What is a neural network?\n",
    "\n",
    "- A neural network is a directed system of connected neurons which is capable of propagating a signal received from the environment and produces an output signal.\n",
    "\n",
    "The neurons are generally organized in different layers which allow us to break free from linearity. \n",
    "\n",
    "Linearity means that we are also assuming monotonicity. In other words, an increase in an input value always increases the output value if the corresponding weight is positive (and will always decrease the output value if the weight is negative).\n",
    "\n",
    "This works fine in examples like the one seen above where we turn on a lightbulb depending on how much energy we get from each battery.\n",
    "\n",
    "But this makes less sense in other cases. For examples very pronounced sales spikes in an online marketplace followed by no sales at all could be indicative of fraud. A positive value for a feature describing this type of spikes should increase the probability of fraud.\n",
    "\n",
    "But is this always the case?\n",
    "\n",
    "What if we additionally know that the owner of the store is a web celeb (网红) on Alibaba? In that case the spikes above are expected, and therefore a positive value for this feature should decrease the probability of fraud while any other behavior might be suspicious.\n"
   ]
  },
  {
   "attachments": {},
   "cell_type": "markdown",
   "metadata": {},
   "source": [
    "**Let's build a neural network step by step:**\n",
    "\n",
    "The simplest example is a single neuron with only one parameter which does not modify the signal in any way:"
   ]
  },
  {
   "cell_type": "code",
   "execution_count": 2,
   "metadata": {},
   "outputs": [
    {
     "name": "stdout",
     "output_type": "stream",
     "text": [
      "18\n"
     ]
    }
   ],
   "source": [
    "def nn(x, w):\n",
    "    return w*x\n",
    "\n",
    "print(nn(3, 6))"
   ]
  },
  {
   "attachments": {},
   "cell_type": "markdown",
   "metadata": {},
   "source": [
    "Most processes we find in the real world are not this simple. We need to take into account multiple input features. \n",
    "\n",
    "I love music, imagine I want to predict if I will like a particular song or not. We can quickly multiply each input value by its corresponding weight using a dot product."
   ]
  },
  {
   "cell_type": "code",
   "execution_count": 3,
   "metadata": {},
   "outputs": [
    {
     "name": "stdout",
     "output_type": "stream",
     "text": [
      "7.5\n"
     ]
    }
   ],
   "source": [
    "def nn(X, W):\n",
    "    return W.dot(X)\n",
    "\n",
    "x1 = 3.5 # length of songs in minutes\n",
    "x2 = 0 # binary value indicating if the genre is jazz or not\n",
    "x3 = 0 # binary value indicating if the artist is Nicki Minaj or not\n",
    "x4 = 1 # binary value indicating if the artist is Alan Walker\n",
    "\n",
    "X = np.array([x1, x2, x3, x4])\n",
    "W = np.array([1., 0.3, -3, 4])\n",
    "\n",
    "print(nn(X, W))"
   ]
  },
  {
   "attachments": {},
   "cell_type": "markdown",
   "metadata": {},
   "source": [
    "What is interesting above is that the weights actually encode certain information about my taste in music. I really don't like when a song is too short and, in general, I'm not fond of music by Nicki Minaj (notice the negative weight). But I do love music by Alan Walker. Jazz is nice but I don't love it. \n",
    "\n",
    "Now the real question is, how do we know the values of these weights. In this case, I used my deep expertise regarding my own music taste to set the weights. But we would usually be more interested in doing this for the users of our streaming platform at scale. Millions of people we have never and will probably never meet in person. \n",
    "\n",
    "So, first we're going to change the output. We want to predict if a particular user is going to like a song or not. Using the sigmoid function we can directly compare the true values (0 or 1) to our predictions (floats between 0 and 1).\n",
    "\n",
    "We will also initialize the weights randomly and print out an error value showing how close our prediction is to the true value:"
   ]
  },
  {
   "cell_type": "code",
   "execution_count": 4,
   "metadata": {},
   "outputs": [
    {
     "name": "stdout",
     "output_type": "stream",
     "text": [
      "Predicted value: -1.468\n",
      "Error: 6.468\n"
     ]
    }
   ],
   "source": [
    "\n",
    "def nn(X, y, W): \n",
    "    prediction = W.dot(X)\n",
    "    error = y-prediction\n",
    "    \n",
    "    print('Predicted value:', round(prediction, 3))\n",
    "    print('Error:', round(error, 3))\n",
    "\n",
    "x1 = 3.5 # length of songs in minutes\n",
    "x2 = 0 # binary value indicating if the genre is jazz or not\n",
    "x3 = 0 # binary value indicating if the artist is Nicki Minaj or not\n",
    "x4 = 1 # binary value indicating if the artist is Alan Walker\n",
    "\n",
    "X = np.array([x1, x2, x3, x4])\n",
    "y = 5\n",
    "W = np.random.random(size=4)*2-1\n",
    "\n",
    "nn(X, y, W)"
   ]
  },
  {
   "attachments": {},
   "cell_type": "markdown",
   "metadata": {},
   "source": [
    "It's now time to start talking about learning or how our neural network is going to choose the best parameters during training to make accurate predictions.\n",
    "\n",
    "We will follow a very simple framework of three steps:\n",
    "\n",
    "1. Predict\n",
    "2. Compare \n",
    "3. Learn\n",
    "\n",
    "This time we will add multiple iterations to our algorithm and we will do the three steps above during each iteration.\n",
    "\n"
   ]
  },
  {
   "cell_type": "code",
   "execution_count": 5,
   "metadata": {},
   "outputs": [
    {
     "name": "stdout",
     "output_type": "stream",
     "text": [
      "True value: 1\n",
      "\n",
      "Predicted value: 0.116\n",
      "Error: 0.884\n",
      "Predicted value: 0.161\n",
      "Error: 0.839\n",
      "Predicted value: 0.206\n",
      "Error: 0.794\n",
      "Predicted value: 0.251\n",
      "Error: 0.749\n",
      "Predicted value: 0.296\n",
      "Error: 0.704\n",
      "Predicted value: 0.341\n",
      "Error: 0.659\n",
      "Predicted value: 0.386\n",
      "Error: 0.614\n",
      "Predicted value: 0.431\n",
      "Error: 0.569\n",
      "Predicted value: 0.476\n",
      "Error: 0.524\n",
      "Predicted value: 0.521\n",
      "Error: 0.479\n"
     ]
    }
   ],
   "source": [
    "def nn(X, y, W): \n",
    "    print(f'True value: {y}\\n')\n",
    "    \n",
    "    for i in range(10):\n",
    "        prediction = W.dot(X)\n",
    "        error = y-prediction\n",
    "\n",
    "        print('Predicted value:', round(prediction, 3))\n",
    "        print('Error:', round(error, 3))\n",
    "        \n",
    "        if error > 0:\n",
    "            W += 0.01\n",
    "        else:\n",
    "            W -= 0.01  \n",
    "\n",
    "x1 = 3.5 # length of songs in minutes\n",
    "x2 = 0 # binary value indicating if the genre is jazz or not\n",
    "x3 = 0 # binary value indicating if the artist is Nicki Minaj or not\n",
    "x4 = 1 # binary value indicating if the artist is Alan Walker\n",
    "\n",
    "X = np.array([x1, x2, x3, x4])\n",
    "y = 1\n",
    "W = np.random.random(size=4)*2-1\n",
    "\n",
    "nn(X, y, W)\n"
   ]
  },
  {
   "attachments": {},
   "cell_type": "markdown",
   "metadata": {},
   "source": [
    "Here we are doing hot & cold learning. After each prediction we are making a comparison just like in the classical game so that we get \"hotter\" or closer to the true answer after each guess.\n",
    "\n",
    "The way we are calculating the error makes it negative if it was too high or positive if our guess was too low.\n",
    "\n",
    "We can now be a bit smarter in the way we learn. Instead of guessing and trying to jiggle the output to both sides, we can use the gradient to guide us:"
   ]
  },
  {
   "cell_type": "code",
   "execution_count": 6,
   "metadata": {},
   "outputs": [
    {
     "name": "stdout",
     "output_type": "stream",
     "text": [
      "True values: [[1 0 0 1]]\n",
      "\n",
      "Mean Squared Error: 0.234\n",
      "Mean Squared Error: 0.132\n",
      "Mean Squared Error: 0.078\n",
      "Mean Squared Error: 0.046\n",
      "Mean Squared Error: 0.028\n",
      "Mean Squared Error: 0.017\n",
      "Mean Squared Error: 0.01\n",
      "Mean Squared Error: 0.006\n",
      "Mean Squared Error: 0.004\n",
      "Mean Squared Error: 0.002\n",
      "\n",
      "W: [[0.927 0.073]]\n",
      "\n",
      "Final predictions: [[0.92 0.07 0.   1.  ]]\n"
     ]
    }
   ],
   "source": [
    "def nn(X, y, W): \n",
    "    print(f'True values: {y}\\n')\n",
    "    n = y.shape[1]\n",
    "    \n",
    "    for i in range(100):\n",
    "        predictions = W.dot(X.T)\n",
    "        mse = (1/2)*np.mean((y-predictions)**2)\n",
    "        \n",
    "        if i % 10 == 0:\n",
    "            print('Mean Squared Error:', round(mse, 3))\n",
    "        \n",
    "        dW = -(1/n)*(y-predictions).dot(X)\n",
    "        W -= 0.1*dW\n",
    "          \n",
    "    print('\\nW:', np.round(W, 3))\n",
    "    print('\\nFinal predictions:', np.round(predictions, 2))\n",
    "\n",
    "X = np.array([[1, 0],\n",
    "              [0, 1],\n",
    "              [0, 0],\n",
    "              [1, 1]])\n",
    "\n",
    "y = np.array([[1, 0, 0, 1]])\n",
    "W = np.random.randn(1, 2)\n",
    "\n",
    "nn(X, y, W)"
   ]
  },
  {
   "attachments": {},
   "cell_type": "markdown",
   "metadata": {},
   "source": [
    "This version led us quickly very close to the correct answers. But we now have another problem. The previous problem was very easy to learn because one of the features had a direct 1-on-1 relationship with an output. A simple linear function was capable of leveraging that feature.\n",
    "\n",
    "Let's look at the next example:"
   ]
  },
  {
   "cell_type": "code",
   "execution_count": 7,
   "metadata": {},
   "outputs": [
    {
     "name": "stdout",
     "output_type": "stream",
     "text": [
      "True values: [[1 1 0 0]]\n",
      "\n",
      "Mean Squared Error: 0.863\n",
      "Mean Squared Error: 0.572\n",
      "Mean Squared Error: 0.408\n",
      "Mean Squared Error: 0.311\n",
      "Mean Squared Error: 0.254\n",
      "Mean Squared Error: 0.219\n",
      "Mean Squared Error: 0.198\n",
      "Mean Squared Error: 0.186\n",
      "Mean Squared Error: 0.178\n",
      "Mean Squared Error: 0.174\n",
      "\n",
      "W: [[0.462 0.204]]\n",
      "\n",
      "Final predictions: [[0.47 0.2  0.   0.67]]\n"
     ]
    }
   ],
   "source": [
    "X = np.array([[1, 0],\n",
    "              [0, 1],\n",
    "              [0, 0],\n",
    "              [1, 1]])\n",
    "\n",
    "y = np.array([[1, 1, 0, 0]])\n",
    "W = np.random.randn(1, 2)\n",
    "\n",
    "nn(X, y, W)"
   ]
  },
  {
   "attachments": {},
   "cell_type": "markdown",
   "metadata": {},
   "source": [
    "MSE might not be extremely high but the answers are terrible. This is because the new problem we're working with cannot be solved with a simple linear function. So, to solve this we can add a hidden layer with an activation function (more on why this works can be found further down): "
   ]
  },
  {
   "cell_type": "code",
   "execution_count": 18,
   "metadata": {},
   "outputs": [
    {
     "name": "stdout",
     "output_type": "stream",
     "text": [
      "True values: [[1]\n",
      " [1]\n",
      " [0]\n",
      " [0]]\n",
      "\n",
      "Mean Squared Error: 1.12\n",
      "Mean Squared Error: 0.284\n",
      "Mean Squared Error: 0.133\n",
      "Mean Squared Error: 0.078\n",
      "Mean Squared Error: 0.052\n",
      "Mean Squared Error: 0.037\n",
      "Mean Squared Error: 0.027\n",
      "Mean Squared Error: 0.021\n",
      "Mean Squared Error: 0.016\n",
      "Mean Squared Error: 0.012\n",
      "\n",
      "W1: [[-0.417 -0.056 -2.136  0.599]\n",
      " [-1.793 -0.842  0.847 -1.302]]\n",
      "W2: [[-1.058]\n",
      " [-0.909]\n",
      " [ 0.876]\n",
      " [ 1.738]]\n",
      "\n",
      "Final predictions: [[1.04]\n",
      " [0.74]\n",
      " [0.  ]\n",
      " [0.  ]]\n"
     ]
    }
   ],
   "source": [
    "np.random.seed(2)\n",
    "\n",
    "def relu(x):\n",
    "    return (x>0)*x\n",
    "\n",
    "def relu_prime(x):\n",
    "    return x>0\n",
    "\n",
    "def nn(X, y, hidden_size , lr=0.01): \n",
    "    print(f'True values: {y}\\n')\n",
    "    n = y.shape[1]\n",
    "    \n",
    "    W1 = np.random.randn(X.shape[1], hidden_size)\n",
    "    W2 = np.random.randn(hidden_size, 1)\n",
    "    \n",
    "    for i in range(100):\n",
    "        z1 = X.dot(W1)\n",
    "        a1 = relu(z1)\n",
    "        \n",
    "        z2 = a1.dot(W2) # predictions\n",
    "        mse = (1/2)*np.mean((y-z2)**2)\n",
    "        \n",
    "        if i % 10 == 0:\n",
    "            print('Mean Squared Error:', round(mse, 3))\n",
    "        \n",
    "        dZ2 = (y-z2)\n",
    "        dW2 = a1.T.dot(dZ2)\n",
    "        W2 += lr*dW2\n",
    "        \n",
    "        dZ1 = (dZ2.dot(W2.T))*relu_prime(a1)\n",
    "        dW1 = X.T.dot(dZ1)\n",
    "        W1 += lr*dW1 #(1/n)\n",
    "    \n",
    "    print('\\nW1:', np.round(W1, 3))\n",
    "    print('W2:', np.round(W2, 3))\n",
    "    \n",
    "    print('\\nFinal predictions:', np.round(z2, 2))\n",
    "\n",
    "X = np.array([[1, 0],\n",
    "              [0, 1],\n",
    "              [0, 0],\n",
    "              [1, 1]])\n",
    "\n",
    "y = np.array([[1, 1, 0, 0]]).T\n",
    "\n",
    "nn(X, y, 4)\n"
   ]
  },
  {
   "attachments": {},
   "cell_type": "markdown",
   "metadata": {},
   "source": [
    "## What is universality?"
   ]
  },
  {
   "attachments": {},
   "cell_type": "markdown",
   "metadata": {},
   "source": [
    "- Universality is the ability to compute any arbitrary function.\n",
    "\n",
    "It has been proven that any function we can think of can be approximated by a neural network with at least two layers.\n",
    "\n",
    "[Michael Nielsen clarifies](http://neuralnetworksanddeeplearning.com/chap4.html#two_caveats) two caveats related to this idea of universality:\n",
    "1. **Universality doesn't mean that the neural network is guaranteed to be exact**, instead we are approximating the function and the more neurons we add the closer it gets to the true function. This means that for any function *f(X)* and any error threshold we define we can always find a neural network with output *g(x)* that satisfies: \n",
    "\n",
    "$$ |g(x) - f(x)| < \\epsilon $$\n",
    "\n",
    "\n",
    "2. **Neural networks approximate continuous functions**. Functions that are not continuous with sharp and sudden jumps won't be approximated by a neural network as a general rule. But that doesn't mean that we can often use a continuous approximation that is good enough for our given purposes when trying to approximate a discontinuous function."
   ]
  }
 ],
 "metadata": {
  "kernelspec": {
   "display_name": "Python 3",
   "language": "python",
   "name": "python3"
  },
  "language_info": {
   "codemirror_mode": {
    "name": "ipython",
    "version": 3
   },
   "file_extension": ".py",
   "mimetype": "text/x-python",
   "name": "python",
   "nbconvert_exporter": "python",
   "pygments_lexer": "ipython3",
   "version": "3.7.7"
  },
  "varInspector": {
   "cols": {
    "lenName": 16,
    "lenType": 16,
    "lenVar": 40
   },
   "kernels_config": {
    "python": {
     "delete_cmd_postfix": "",
     "delete_cmd_prefix": "del ",
     "library": "var_list.py",
     "varRefreshCmd": "print(var_dic_list())"
    },
    "r": {
     "delete_cmd_postfix": ") ",
     "delete_cmd_prefix": "rm(",
     "library": "var_list.r",
     "varRefreshCmd": "cat(var_dic_list()) "
    }
   },
   "types_to_exclude": [
    "module",
    "function",
    "builtin_function_or_method",
    "instance",
    "_Feature"
   ],
   "window_display": false
  }
 },
 "nbformat": 4,
 "nbformat_minor": 4
}
