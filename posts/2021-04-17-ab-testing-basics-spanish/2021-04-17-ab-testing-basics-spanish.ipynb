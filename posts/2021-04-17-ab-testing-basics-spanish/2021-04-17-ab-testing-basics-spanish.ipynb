{
 "cells": [
  {
   "attachments": {},
   "cell_type": "markdown",
   "metadata": {},
   "source": [
    "---\n",
    "title: \"Pruebas A/B - Fundamentos\"\n",
    "author: Kalle Bylin\n",
    "date: 2021-04-17\n",
    "categories: [Data Science, Spanish]\n",
    "image: img/stormtroopers.jpg\n",
    "toc: true\n",
    "format:\n",
    "  html:\n",
    "    code-fold: true\n",
    "jupyter: python3\n",
    "draft: true\n",
    "---\n",
    "\n",
    "> Un corto resumen sobre pruebas A/B"
   ]
  },
  {
   "attachments": {},
   "cell_type": "markdown",
   "metadata": {},
   "source": [
    "# ¿Qué es una prueba A/B?\n",
    "\n",
    "<img src=\"img/stormtroopers.jpg\" alt=\"ab-testing\" width=\"600\"/>\n",
    "\n",
    "\n",
    "En pocas palabras, **una prueba A/B es una comparación entre dos alternativas con el objetivo de descubrir cuál es mejor**. \n",
    "\n",
    "Cuando tomamos decisiones es muy fácil dejarnos llevar por nuestras opiniones. Esto no siempre es malo, pero es especialmente peligroso en empresas cuando una iniciativa es seleccionada basado principalmente en la opinión de la persona con mayor poder jerárquico en lugar del mérito propio de la iniciativa.\n",
    "\n",
    "A lo largo de este documento vamos a presentar también ciertas reglas importantes durante el proceso de comparación que nos permiten tener confianza en el resultado. \n",
    "\n",
    "Voy a enfocarme principalmente en decisiones relacionadas al desarrollo de productos digitales, pero es aplicable en muchos otros contextos.\n"
   ]
  },
  {
   "attachments": {},
   "cell_type": "markdown",
   "metadata": {},
   "source": [
    "### Es una herrmiante de toma de decisiones\n",
    "\n",
    "El valor principal de una prueba A/B nace de la incertidumbre inherente de nuestras decisiones. Cuando no estamos seguros de qué camino tomar, una prueba A/B es una manera efectiva de probar ambas alternativas por un tiempo y dejar que los resultados nos guíen. \n"
   ]
  },
  {
   "attachments": {},
   "cell_type": "markdown",
   "metadata": {},
   "source": [
    "### Es un acelerador de procesos\n",
    "\n",
    "El riesgo y la incertidumbre suelen volver lentos nuestros procesos. Cuando hay riesgo de algo potencialmente dañino para la compañía se vuelve importante crear procesos de verificación y puntos de control antes de lanzar una iniciativa. Desarrollando software es común usar una mezcla entre pruebas automatizadas y revisiones de código.\n",
    "\n",
    "El problema es que por cada persona que tiene que entrar a revisar el trabajo tardas más en sacar la iniciativa a producción y esas personas pierden la posibilidad de estar trabajando en otra cosa.\n",
    "\n",
    "Una prueba A/B reduce el riesgo porque te permite controlar el daño potencial y te permite justificar tus decisiones. Esto se puede hacer, por ejemplo, corriendo el experimento con únicamente 5% de tus usuarios. \n",
    "\n",
    "Además, al comparar los resultados de tu experimento es más fácil darse cuenta si la iniciativa está teniendo un impacto negativo en alguna métrica clave. Sin un punto de comparación suele ser muy difícil saber si un cambio negativo en una métrica se debe a la implementación o algún otro factor.\n"
   ]
  },
  {
   "attachments": {},
   "cell_type": "markdown",
   "metadata": {},
   "source": [
    "### Empodera personas\n",
    "\n",
    "El uso constante de pruebas A/B reduce la necesidad de que una sola persona tome decisiones y permite a cualquier miembro del equipo aportar ideas. Se vuelve menos importante si alguien piensa que es una buena o mala idea, el desempeño de la idea en el campo de batalla es el juez final srgún los datos recolectados. "
   ]
  },
  {
   "attachments": {},
   "cell_type": "markdown",
   "metadata": {},
   "source": [
    "# Los experimentos controlados salvan vidas\n",
    "\n",
    "Las pruebas A/B son mucho más que una simple herramienta para optimizar la tasa de conversión en una página web.\n",
    "\n",
    "En 1753, el médico naval escocés James Lind publicó su *A Treatise of the Scurvy* en el que describe una serie de experimentos controlados ofreciendo diferentes soluciones a los miembros de la tripulación. Esto le permitió llegar a la conclusión de que agregar cítricos a la dieta podría ayudar a prevenir y curar el escorbuto."
   ]
  },
  {
   "attachments": {},
   "cell_type": "markdown",
   "metadata": {},
   "source": [
    "# ¿Cómo funcionan las pruebas A/B?\n",
    "\n",
    "[Trabajo en proceso]"
   ]
  },
  {
   "cell_type": "code",
   "execution_count": null,
   "metadata": {},
   "outputs": [],
   "source": []
  }
 ],
 "metadata": {
  "kernelspec": {
   "display_name": "Python 3",
   "language": "python",
   "name": "python3"
  },
  "language_info": {
   "codemirror_mode": {
    "name": "ipython",
    "version": 3
   },
   "file_extension": ".py",
   "mimetype": "text/x-python",
   "name": "python",
   "nbconvert_exporter": "python",
   "pygments_lexer": "ipython3",
   "version": "3.7.7"
  },
  "varInspector": {
   "cols": {
    "lenName": 16,
    "lenType": 16,
    "lenVar": 40
   },
   "kernels_config": {
    "python": {
     "delete_cmd_postfix": "",
     "delete_cmd_prefix": "del ",
     "library": "var_list.py",
     "varRefreshCmd": "print(var_dic_list())"
    },
    "r": {
     "delete_cmd_postfix": ") ",
     "delete_cmd_prefix": "rm(",
     "library": "var_list.r",
     "varRefreshCmd": "cat(var_dic_list()) "
    }
   },
   "types_to_exclude": [
    "module",
    "function",
    "builtin_function_or_method",
    "instance",
    "_Feature"
   ],
   "window_display": false
  }
 },
 "nbformat": 4,
 "nbformat_minor": 4
}
