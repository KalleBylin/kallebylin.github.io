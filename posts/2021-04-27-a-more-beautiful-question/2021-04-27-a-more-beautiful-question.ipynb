{
 "cells": [
  {
   "cell_type": "markdown",
   "metadata": {},
   "source": [
    "# A more beautiful question \n",
    "> The Power of Inquiry to Spark Breakthrough Ideas\n",
    "\n",
    "- toc: true \n",
    "- badges: true\n",
    "- comments: true\n",
    "- categories: [books]\n",
    "- image: img/beautiful-question.jpg"
   ]
  },
  {
   "cell_type": "markdown",
   "metadata": {},
   "source": [
    "<img src=\"img/beautiful-question.jpg\" alt=\"beautiful-question\" width=\"300\"/>"
   ]
  },
  {
   "cell_type": "markdown",
   "metadata": {},
   "source": [
    "# 🚀 The book in 3 sentences \n",
    "\n",
    "En pocas palabras, **una prueba A/B es una comparación entre dos alternativas con el objetivo de descubrir cuál es mejor**. \n",
    "\n",
    "Cuando tomamos decisiones es muy fácil dejarnos llevar por nuestras opiniones. Esto no siempre es malo, pero es especialmente peligroso en empresas cuando una iniciativa es seleccionada basado principalmente en la opinión de la persona "
   ]
  },
  {
   "cell_type": "markdown",
   "metadata": {},
   "source": [
    "# 🎨 Impressions"
   ]
  },
  {
   "cell_type": "markdown",
   "metadata": {},
   "source": [
    "# ☘️ How the book changed me"
   ]
  },
  {
   "cell_type": "markdown",
   "metadata": {},
   "source": [
    "# ✍️ My top 3 quotes\n",
    "\n",
    "- \"To encourage or even allow questioning is to cede power\"\n",
    "\n",
    "\n",
    "- \"Forming questions helps us to organize our thinking around what we don't know\" - Stephen Quatrano, The Right Question Institute\n",
    "\n",
    "\n",
    "- "
   ]
  },
  {
   "cell_type": "markdown",
   "metadata": {},
   "source": [
    "# 📒 Summary + Notes\n",
    "\n",
    "## Introduction: Why Questions?\n",
    "\n",
    "The author's interest in questioning started when he was interviewing some of the most innovative minds for a series of articles and a book he wrote. One common denominator he found was that they were all very good as asking questions.\n",
    "\n",
    "For many of them, their breakthrough products, solutions or services started with a key question or a series of questions that they asked and then answered.\n",
    "\n",
    "Interestingly though, most companies and schools don't teach or encourage good questioning. It is often seen as a waste of time, rebellion towards authority or as a sign of ignorance. Therefore, obedience and memorization is often favored in these settings.\n",
    "\n",
    "The title of the book was borrowed from this quote:\n",
    "\n",
    "> \"Always the beautiful answer who asks a more beautiful question\" - E. E. Cummings\n",
    "\n",
    "It is then worth asking ourselves why questioning is not as common as we could except. To answer this we have to remember that questions tend to disrupt processes and structures that already exist. Questions also force us to wonder if things could be done differently. So, in a way, encouraging people to ask questions implies giving up power.\n",
    "\n",
    "\n",
    "After a great number of interviews and borrowing from well-known theories in areas like design thinking, the author crated a three-part model to formulate and tackle big, beautiful questions:\n",
    "\n",
    "\n",
    "- Why?\n",
    "- What if?\n",
    "- How?\n",
    "\n",
    "The author also finishes the introduction with his own subjective definition of a beautiful question:\n",
    "\n",
    "> \"A beautiful question is an ambitious yet actionable question that can begin to shift the way we perceive or think about something and that might serve as a catalyst to bring about change\"."
   ]
  },
  {
   "cell_type": "markdown",
   "metadata": {},
   "source": [
    "## Chapter 1: The Power of Inquiry\n",
    "\n",
    "This story starts with the emotional but very powerful story about Van Phillips, who lost his leg in a water-skiing accident in the late 1970s. In the hospital he was given a prosthetic leg of wood and foam rubber. \n",
    "\n",
    "Inspired by the technological advances by NASA and the space program, Phillips asked \"Why can’t a prosthetic leg perform more like a human one?\" and \"Why can’t it bend and flex, enabling a person to run and jump?\"\n",
    "\n",
    "In the beginning, many felt these questions as a challenge to the doctors and prosthetics engineers who were experts in the field.\n",
    "\n",
    "> \"It [questioning] often has an inverse relationship to expertise. Such that, within their own subject areas, are apt to be poor questioners\".\n",
    "\n",
    "In the end, Phillips discovered that he would have to answer the question himself.\n",
    "\n",
    "Mark Noonan, inventor of the wheeled shovel, has said that **if we never do anything about a problem ourselves, then we are not really questioning. We are complaining**.\n",
    "\n",
    "Fast-forwarding several years, Phillips work has impacted the lives of thousands of people and many of us heave seen or heard the story about South Africa’s Oscar Pistorius (aka “the blade runner”), the first double-amputee runner to compete in the Olympics. He ran with a pair of carbon-fiber prosthetic legs known as Cheetahs, created by Van Phillips.\n",
    "\n",
    "After this, the author focuses on different types of questions and how they have been used in the past.\n",
    "\n",
    "For example, open questions tend to encourage more creative answers than closed questions, even though these are also important.\n",
    "\n",
    "The tone is also very important. When presented with a problem, asking \"Oh my God, what are we going to do?\" is very different to asking \"What if this change represents an opportunity for us?\" or \"How can we make the most of this situation?\". The second type of questions usually produces better answers.\n",
    "\n",
    "David Cooperrider, from Case Western Reserve University, is one of the creators of the appreciative inquiry model. This model assumes that the questions we ask tend to focus our attention in a specific direction. One interesting result of this would be that **organizations evolve in the direction of the questions they most persistently and passionately ask**.\n",
    "\n",
    "> \"Forming questions helps us to organize our thinking around what we don't know\" - Stephen Quatrano, The Right Question Institute\n",
    "\n",
    "The author also sees a very strong connection between innovation and questioning. In some sense, innovation means trying to find and formulate new questions that can be answered over time. It is very common for new businesses or products to be born from a good question.\n",
    "\n",
    "Over time, the value of good questions have been rising. In today's world it tends to be very easy to find answers in most cases. With so much information available to us, it becomes very difficult to know which questions to ask. \n",
    "\n",
    "We see this same phenomenon with computers, they are extremely efficient at giving us answers we are looking for but they are still not capable of producing valuable questions consistently.\n",
    "\n",
    "\n",
    "The last part of the chapter focuses on the main stages of innovative questioning and the author's three-part model:\n",
    "\n",
    "\n",
    "- **Why**: Confronting, formulating and framing the initial questions that define the problem we have identified. This corresponds to the \"why?\" moment because we are trying to understand why the problem exists, why it creates an opportunity/need/pain and for whom. We also want to understand why others have not solved it and why it should be important to us. It is common for these \"why\" questions to be discovered in our daily lives.\n",
    "\n",
    "\n",
    "- **What if**: We take the understanding we have gained in the previous stage and formulate hypotheses to solve the problem. This is the first step in moving from just asking to action. The author also mentions the concepts of contextual inquiry and connective inquiry. We use the first type when we are trying to get more context about the problem we are interested in. Connective inquiry is the kind of questions we use when we start to combine knowledge from other fields or domains with the problem at hand. This produces questions like \"What if a prosthetic leg could have the same strength and flexibility as a springboard so that the person could jump?\"\n",
    "\n",
    "\n",
    "- **How**: Decide on a specific solution, build prototypes and/or construct a plan. This is where most of the action happens. Questions tend to be much more practical (e.g. \"How do I test this idea?\" or \"How can I get this to work?\").\n",
    "\n",
    "\n"
   ]
  },
  {
   "cell_type": "markdown",
   "metadata": {},
   "source": [
    "## Chapter 2: Why we stop questioning\n",
    "\n",
    "This chapter starts with the apparently never-ending ability of small children to ask questions. Unfortunately, studies show that as they grow up the number of questions that they ask falls drastically and by middle school questioning has practically stopped.\n",
    "\n",
    "One interesting finding is that one main reason children ask why over and over again is because they feel their question has not been answered. In other words, it's their way of saying \"you are not hearing me, you still don't understand what I'm asking\".\n",
    "\n",
    "As children move into more standardized learning, it seems like we are robbing them of the opportunity to explore and discover questions on their own. Many schools and teachers are tasked with filling up our heads with as many answers as possible based on a list of topics that have to be taught. **This leaves very little time for questions that deviate from the topics that have to be covered**. Children are forced to sit still in class and memorize as much as possible.\n",
    "\n",
    "This raises the question \"**what if our schools could train students to be better life-long learners and better adapters to change by enabling them to be better questioners?**\"\n",
    "\n",
    "This chapter includes the story of Deborah Meier who started applyting experimental approaches to learning in the 60s and 70s in Harlem. \n",
    "\n",
    "Her school focused on 5 key learning skills or habits of mind, each of which had been paired to a series of questions:\n",
    "\n",
    "\n",
    "- Evidence: How do we know what is true or false? What evidence counts?\n",
    "- Viewpoint: How might this look like if we were in someone else's shows or looked at it from another perspective?\n",
    "- Connection: Is there a pattern? Have we seen something like this before?\n",
    "- Conjecture: What if it were different?\n",
    "- Relevance: Why does it matter?\n",
    "\n",
    "Her approach was based on questions, but many viewed this as undisciplined and without structure. Meier's response to this was that children are easier to control when they have the freedom to focus on what they were interested in."
   ]
  },
  {
   "cell_type": "code",
   "execution_count": null,
   "metadata": {},
   "outputs": [],
   "source": []
  }
 ],
 "metadata": {
  "kernelspec": {
   "display_name": "Python 3",
   "language": "python",
   "name": "python3"
  },
  "language_info": {
   "codemirror_mode": {
    "name": "ipython",
    "version": 3
   },
   "file_extension": ".py",
   "mimetype": "text/x-python",
   "name": "python",
   "nbconvert_exporter": "python",
   "pygments_lexer": "ipython3",
   "version": "3.7.7"
  },
  "varInspector": {
   "cols": {
    "lenName": 16,
    "lenType": 16,
    "lenVar": 40
   },
   "kernels_config": {
    "python": {
     "delete_cmd_postfix": "",
     "delete_cmd_prefix": "del ",
     "library": "var_list.py",
     "varRefreshCmd": "print(var_dic_list())"
    },
    "r": {
     "delete_cmd_postfix": ") ",
     "delete_cmd_prefix": "rm(",
     "library": "var_list.r",
     "varRefreshCmd": "cat(var_dic_list()) "
    }
   },
   "types_to_exclude": [
    "module",
    "function",
    "builtin_function_or_method",
    "instance",
    "_Feature"
   ],
   "window_display": false
  }
 },
 "nbformat": 4,
 "nbformat_minor": 4
}
