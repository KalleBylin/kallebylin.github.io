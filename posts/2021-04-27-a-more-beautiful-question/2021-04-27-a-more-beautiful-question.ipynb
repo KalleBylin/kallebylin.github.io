{
 "cells": [
  {
   "attachments": {},
   "cell_type": "markdown",
   "metadata": {},
   "source": [
    "---\n",
    "title: \"A More Beautiful Question\"\n",
    "author: Kalle Bylin\n",
    "date: 2021-04-27\n",
    "date-modified: 2023-06-18\n",
    "categories: [Books]\n",
    "image: img/beautiful-question.jpg\n",
    "toc: true\n",
    "format:\n",
    "  html:\n",
    "    code-fold: true\n",
    "jupyter: python3\n",
    "---"
   ]
  },
  {
   "attachments": {},
   "cell_type": "markdown",
   "metadata": {},
   "source": [
    "<img style=\"float: right;\" src=\"img/beautiful-question.jpg\" alt=\"beautiful-question\" width=\"150\"/>\n",
    "\n",
    "\n",
    "> **The Power of Inquiry to Spark Breakthrough Ideas**\n",
    "\n",
    "Author: Warren Burger\n",
    "\n",
    "Purchase on: [Amazon](https://amzn.to/3qNK9L6)"
   ]
  },
  {
   "attachments": {},
   "cell_type": "markdown",
   "metadata": {},
   "source": [
    "# 📖 The book in 3 sentences\n",
    "\n"
   ]
  },
  {
   "attachments": {},
   "cell_type": "markdown",
   "metadata": {},
   "source": [
    "# 👉 Why it matters\n",
    "\n",
    "The author's interest in questions was born out of multiple interviews with some of the world's leading inventors and creative minds. The only common pattern he was able to identify across the people he interviewed was that they were extremely good at asking questions. For example, the author refers to research by Clayton Christensen with Hal Gregersen and Jeff Dyer coauthored research showing that questioning is a key success factor among innovative executives. \n",
    "\n",
    "In other words, one reason this book matters is because there seems to be a relevant connection between innovation and the ability to ask good questions. \n",
    "\n",
    "Unfortunately, many companies, schools and other organizations (consciously or unconsciously) have cultures that don't encourage honest inquiry. This book also tries to understand why questioning becomes less natural to the majority of us as we grow older.\n",
    "\n",
    "But for me, why it matters the most has to do with a re-occurring theme in the book. As life goes by, most of us seem to lose a great part of the creativity, imagination and joy that we have as kids. So, if we want to become more child-like once again then maybe, as the book puts it, we should rediscover one of the tools children are so good at using: questions.\n"
   ]
  },
  {
   "attachments": {},
   "cell_type": "markdown",
   "metadata": {},
   "source": [
    "# 💭 Thoughts\n",
    "\n",
    "I love how this book about questioning is structured around questions. There are 44 questions that divide each of the sections of the chapters, and even more questions within each section. \n",
    "\n",
    "This book is also very practical in its approach to questioning. The framework and ideas found in this book can be applied to any type of question, but the author emphasizes that his focus is not on great philosophical or spiritual questions. His focus is on questions that can produce action and tangible change. \n",
    "\n",
    "The questions themselves don't have to be practical, it turns out that the act of questioning is itself very engaging. The author often refers to the question-based teaching approached used in the Right Question Institute. I immediately tried this approach with youth as part of volunteer activities I do, and at work. Participation improved significantly and the discussions were more energized. \n",
    "\n",
    "Questioning can be used to activate both divergent and convergent thinking, making it a very powerful tool for different types of discussions and conversations. "
   ]
  },
  {
   "attachments": {},
   "cell_type": "markdown",
   "metadata": {},
   "source": [
    "# 💡 My top 3 quotes\n",
    "\n",
    "- \"Questions challenge authority and disrupt established structures, processes, and systems, forcing people to have to at least _think_ about doing something differently. To encourage or even allow questioning is to cede power\"\n",
    "\n",
    "- \"[Questioning] often has an inverse relationship to expertise - such that within their own subject areas, experts are apt to be poor questioners\"\n",
    "\n",
    "- \"Forming questions helps us to organize our thinking around what we don't know\" - Stephen Quatrano, The Right Question Institute"
   ]
  },
  {
   "attachments": {},
   "cell_type": "markdown",
   "metadata": {},
   "source": [
    "# 📚 Summary + Notes\n",
    "\n"
   ]
  },
  {
   "attachments": {},
   "cell_type": "markdown",
   "metadata": {},
   "source": [
    "## Introduction\n",
    "\n",
    "The author's interest in questioning started when he was interviewing some of the most innovative minds for a series of articles and a book he wrote. One common denominator he found was that they were all very good as asking questions.\n",
    "\n",
    "For many of them, their breakthrough products, solutions or services started with a key question or a series of questions that they asked and then answered.\n",
    "\n",
    "Interestingly though, most companies and schools don't teach or encourage good questioning. It is often seen as a waste of time, rebellion towards authority or as a sign of ignorance. Therefore, obedience and memorization is often favored in these settings.\n",
    "\n",
    "Anyone who has been around small children for a while knows that asking questions comes naturally to them. The book quotes [a study](https://www.telegraph.co.uk/news/uknews/9959026/Mothers-asked-nearly-300-questions-a-day-study-finds.html) that claims that the average girl in the UK asks her mother 390 questions per day. Over time children ask less and less questions. \n",
    "\n",
    "The title of the book was borrowed from this quote:\n",
    "\n",
    "> \"Always the beautiful answer who asks a more beautiful question\" - E. E. Cummings\n",
    "\n",
    "It is then worth asking ourselves why questioning is not as common as we could expect. To answer this we have to remember that questions tend to disrupt processes and structures that already exist. **Questions also force us to wonder if things could be done differently. So, in a way, encouraging people to ask questions implies giving up power**. To allow for more questioning means that the people in charge (e.g. leaders or teachers) need to be willing to give up control. \n",
    "\n",
    "After a great number of interviews and borrowing from well-known theories in areas like design thinking, the author crated a three-part framework to formulate and tackle big, beautiful questions:\n",
    "\n",
    "- Why?\n",
    "- What if?\n",
    "- How?\n",
    "\n",
    "The author also finishes the introduction with his own subjective definition of a beautiful question:\n",
    "\n",
    "> \"A beautiful question is an ambitious yet actionable question that can begin to shift the way we perceive or think about something and that might serve as a catalyst to bring about change\"."
   ]
  },
  {
   "attachments": {},
   "cell_type": "markdown",
   "metadata": {},
   "source": [
    "## Chapter 1: The Power of Inquiry\n",
    "\n",
    "> If they can put a man on the moon, why can't they make a decent foot?\n",
    "\n",
    "This story starts with the emotional but very powerful story about Van Phillips, who received a prosthetic leg of wood and foam rubber after he lost his leg in a water-skiing accident in the late 1970s.\n",
    "\n",
    "Phillips asked \"Why can’t a prosthetic leg perform more like a human one?\" and \"Why can’t it bend and flex, enabling a person to run and jump?\"\n",
    "\n",
    "Experts like doctors and prosthetics engineers can often take this type of questions as challenges to their expertise. For this reason, outsiders are often best positioned to ask questions, while experts are usually very bad at asking questions in their own subject area. \n",
    "\n",
    "Phillips discovered that he would have to answer the question himself. Mark Noonan, inventor of the wheeled shovel, has said that **if we never do anything about a problem ourselves, then we are not really questioning. We are complaining**.\n",
    "\n",
    "Fast-forwarding several years, Phillips work has impacted the lives of thousands of people and many of us heave seen or heard the story about South Africa’s Oscar Pistorius (aka “the blade runner”), the first double-amputee runner to compete in the Olympics. He ran with a pair of carbon-fiber prosthetic legs known as Cheetahs, created by Van Phillips.\n",
    "\n",
    "Why do we ask questions? Well, one one main reason is when we become aware of something that we don't know. **That's why good questioners tend to be aware and comfortable with their own ignorance**.\n",
    "\n",
    "Questioning can also be a way of activating divergent thinking, which usually happens in the creative right hemisphere of the brain. This would allow us to trigger random association of ideas and our imagination to discover new ideas. \n",
    "\n",
    "We can also leverage different types of questions depending on what we need. For example, open questions tend to encourage more creative answers than closed questions, even though these are also important.\n",
    "\n",
    "The tone is also very important. The same question can be asked with a negative or positive tone. The second type of questions usually produces better answers.\n",
    "\n",
    "David Cooperrider, from Case Western Reserve University, is one of the creators of the appreciative inquiry model. This model assumes that the questions we ask tend to focus our attention in a specific direction. One interesting result of this would be that **organizations evolve in the direction of the questions they most persistently and passionately ask**.\n",
    "\n",
    "For example, questions like \"Why are we falling behind our competitors?\" tend to reinforce a culture of finger-pointing while more expansive and optimistic questions encourage collaboration and innovation. The same would be true for our countries, communities and families.\n",
    "\n",
    "> \"Forming questions helps us to organize our thinking around what we _don't_ know\" - Stephen Quatrano, The Right Question Institute\n",
    "\n",
    "In some sense, innovation means trying to find and formulate new questions that can be answered over time. It is very common for new businesses or products to be born from a good question.\n",
    "\n",
    "If we borrow from economic theory, we could also say that information has become a commodity and the value of knowledge has been decreasing. With so much information available to us, it becomes very difficult to know which questions to ask. This means that the value of good questions has been rising\n",
    "\n",
    "We see this same phenomenon with computers, they are extremely efficient at giving us answers we are looking for but they are still not capable of producing valuable questions consistently.\n",
    "\n",
    "The last part of the chapter focuses on the main stages of innovative questioning and the author's three-part model:\n",
    "\n",
    "- **Why**: Confronting, formulating and framing the initial questions that define the problem we have identified. This corresponds to the \"why?\" moment because we are trying to understand why the problem exists, why it creates an opportunity/need/pain and for whom. We also want to understand why others have not solved it and why it should be important to us. It is common for these \"why\" questions to be discovered in our daily lives.\n",
    "\n",
    "- **What if**: We take the understanding we have gained in the previous stage and formulate hypotheses to solve the problem. This is the first step in moving from just asking to action. The author also mentions the concepts of contextual inquiry and connective inquiry. We use the first type when we are trying to get more context about the problem we are interested in. Connective inquiry is the kind of questions we use when we start to combine knowledge from other fields or domains with the problem at hand. This produces questions like \"What if a prosthetic leg could have the same strength and flexibility as a springboard so that the person could jump?\". \"Often the worst thing we can do with a difficult question is to try to answer it too quickly\".\n",
    "\n",
    "- **How**: Decide on a specific solution, build prototypes and/or construct a plan. This is where most of the action happens. Questions tend to be much more practical (e.g. \"How do I test this idea?\" or \"How can I get this to work?\")."
   ]
  },
  {
   "attachments": {},
   "cell_type": "markdown",
   "metadata": {},
   "source": [
    "## Chapter 2: Why we stop questioning\n",
    "\n",
    "This chapter starts with the apparently never-ending ability of small children to ask questions. Unfortunately, studies show that as they grow up the number of questions that they ask falls drastically and by middle school questioning has practically stopped.\n",
    "\n",
    "One interesting finding is that one main reason children ask why over and over again is because they feel their question has not been answered. In other words, it's their way of saying _\"you are not hearing me, you still don't understand what I'm asking\"_.\n",
    "\n",
    "As children move into more standardized learning, it seems like we are robbing them of the opportunity to explore and discover questions on their own. Many schools and teachers are tasked with filling up our heads with as many answers as possible based on a list of topics that have to be taught. **This leaves very little time for questions that deviate from the topics that have to be covered**. Children are forced to sit still in class and memorize as much as possible.\n",
    "\n",
    "This raises the question \"**what if our schools could train students to be better life-long learners and better adapters to change by enabling them to be better questioners?**\"\n",
    "\n",
    "This chapter includes the story of Deborah Meier who started applying experimental approaches to learning in the 60s and 70s in Harlem.\n",
    "\n",
    "Her school focused on 5 key learning skills or habits of mind, each of which had been paired to a series of questions:\n",
    "\n",
    "- Evidence: How do we know what is true or false? What evidence counts?\n",
    "\n",
    "- Viewpoint: How might this look like if we were in someone else's shows or looked at it from another perspective?\n",
    "\n",
    "- Connection: Is there a pattern? Have we seen something like this before?\n",
    "\n",
    "- Conjecture: What if it were different?\n",
    "\n",
    "- Relevance: Why does it matter?\n",
    "\n",
    "Her approach was based on questions, but many viewed this as undisciplined and without structure. Meier's response to this was that children are easier to control when they have the freedom to focus on what they were interested in.\n",
    "\n",
    "For a decade, when the average dropout rate of the city was 40-60%, only 1% of Meier's students failed to finish secondary school.\n",
    "\n",
    "> If you can't imagine that you could be wrong, what's the point of democracy? And if you can't imagine how or why others think differently, then how could you tolerate democracy?\n",
    "\n",
    "It is not only children that benefit from better questions. The book follows multiple experiences by Rothstein and Santana from the Right Question Institute. For example, they found that many parents refused to go to school meetings. They wondered \"Why?\" and were told by the parents that they didn't go because they didn't know what questions to ask.\n",
    "\n",
    "They decided to train the parents with various questioning techniques and soon discovered that the parents were using these techniques in other contexts as well (in th emergency room, when discussing with a landlord, etc.).\n",
    "\n",
    "Rothstein and Santana designed a question formulation program for K-12 classrooms with the following steps:\n",
    "\n",
    "- **Teachers design a Question Focus** (e.g. _Torture can be justified_)\n",
    "\n",
    "- **Students produce questions** without the teacher's help, no answers allowed.\n",
    "\n",
    "- **Students improve their questions** by, for example, opening closed questions and closing open questions.\n",
    "\n",
    "- **Students prioritize their questions**. Usually a top three among all students.\n",
    "\n",
    "- **Students and teachers decide on next steps**, for acting on prioritized questions. \n",
    "\n",
    "- **Students reflect on what they have learned**."
   ]
  },
  {
   "attachments": {},
   "cell_type": "markdown",
   "metadata": {},
   "source": [
    "## Chapter 3: The Why, What if, and How of Innovative Questioning\n",
    "\n",
    "This chapter dives deep into multiple examples of innovation though questions in companies like Polaroid, Airbnb and Pandora. \n",
    "\n",
    "The Polaroid Tale is a great example of questions driving innovation. Edwin Land, who would become co-founder of the Polaroid Corporation, was taking pictures of his daughter Jennifer one day during a vacation and she asked why they couldn't see the pictures without having to wait.\n",
    "\n",
    "As a scientist, Land was hooked by this question and immediately started exploring questions like \"What if you could somehow have a darkroom inside a camera?\".\n",
    "\n",
    "> If What if is about imagining and How is about doing, the initial Why stage has to do with seeing and understanding.\n",
    "\n",
    "So how do we ask powerful Why questions? The author proposes:\n",
    "\n",
    "- Step back\n",
    "\n",
    "- Notice what others miss\n",
    "\n",
    "- Challenge assumptions (including our own)\n",
    "\n",
    "- Gain a deeper understanding through contextual inquiry\n",
    "\n",
    "- Question the questions we are asking. Questions also have assumptions. \n",
    "\n",
    "- Take ownership of a particular question\n",
    "\n",
    "> Part of the value in asking naïve questions is that it forces people to explain things simply, which can help bring clarity to an otherwise complex issue - Paul Bennett\n",
    "\n",
    "At this point, the value of questioning seems obvious, but actually asking the questions is hard. It can be challenging and even uncomfortable. \n",
    "\n",
    "Paul Bottino, director of Harvard University's student-innovator program, says that the only way to get more comfortable questioning expert assumptions of others is to do it repeatedly and over time. \n",
    "\n",
    "With an initial deep understanding, we can move on to the What if stage where anything is possible. For Pandora, an example could be \"What if a radio station could know what songs you would like before you know?\n",
    "\n",
    "Here it is worth noting that a creative act does not necessarily mean creating something from scratch, but could also be a smart new recombination of things that already exist.\n",
    "\n",
    "Research shows, contrary to what our fast-paced lives would demand, that we should \"live with\" challenging questions for a time instead of answering them right away. This allows our brain to find fresh insights and possibilities. \n",
    "\n",
    "States of inattention, when we are relaxed or distracted, seem to often produce more novel ideas or solutions. Especially when we move back and forth between attention and inattention.\n",
    "\n",
    "Finally, How questions allow us to converge around what is or is not doable. The danger here is that we often hold back our ideas until they are polished and perfect. Children tend to be quicker and fearless when moving from What if to How.\n",
    "\n",
    "The author describes an interesting experiment where Harvard MBA grad students competed with kindergarten children using spaghetti and a marshmallow to create the tallest tower. The kindergarten children won easily by quickly jumping into a hands-on try and learn loop, while the MBA graduates spent a lot of time deciding who would be the leader and then planning analytically how to build the tallest tower.\n",
    "\n",
    "The Lean Startup methodology by ERic Ries follows a similar fast-paced learning cycle through focused experimentation. \n",
    "\n",
    "Following this idea, we are also encouraged to share beautiful questions with others early instead of hiding them until we have a solution. We might find help from others so that we find a higher quality solution faster. \n"
   ]
  },
  {
   "attachments": {},
   "cell_type": "markdown",
   "metadata": {},
   "source": [
    "## Chapter 4: Questioning in Business\n",
    "\n"
   ]
  }
 ],
 "metadata": {
  "kernelspec": {
   "display_name": "Python 3",
   "language": "python",
   "name": "python3"
  },
  "language_info": {
   "codemirror_mode": {
    "name": "ipython",
    "version": 3
   },
   "file_extension": ".py",
   "mimetype": "text/x-python",
   "name": "python",
   "nbconvert_exporter": "python",
   "pygments_lexer": "ipython3",
   "version": "3.7.7"
  },
  "varInspector": {
   "cols": {
    "lenName": 16,
    "lenType": 16,
    "lenVar": 40
   },
   "kernels_config": {
    "python": {
     "delete_cmd_postfix": "",
     "delete_cmd_prefix": "del ",
     "library": "var_list.py",
     "varRefreshCmd": "print(var_dic_list())"
    },
    "r": {
     "delete_cmd_postfix": ") ",
     "delete_cmd_prefix": "rm(",
     "library": "var_list.r",
     "varRefreshCmd": "cat(var_dic_list()) "
    }
   },
   "types_to_exclude": [
    "module",
    "function",
    "builtin_function_or_method",
    "instance",
    "_Feature"
   ],
   "window_display": false
  }
 },
 "nbformat": 4,
 "nbformat_minor": 4
}
